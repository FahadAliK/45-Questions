{
 "cells": [
  {
   "cell_type": "markdown",
   "metadata": {},
   "source": [
    "**1.Write a Python program which accepts the radius of a circle from the user and compute the area.**"
   ]
  },
  {
   "cell_type": "code",
   "execution_count": 1,
   "metadata": {},
   "outputs": [],
   "source": [
    "def get_circle_area(radius):\n",
    "    ''' (number) -> number\n",
    "    \n",
    "    Return area of circle by using radius of that circle.\n",
    "    \n",
    "    >>> get_circle_area(1)\n",
    "    3.141592653589793\n",
    "    >>> get_circle_area(2)\n",
    "    12.566370614359172\n",
    "    >>> get_circle_area(3.2)\n",
    "    32.169908772759484\n",
    "    '''\n",
    "    from math import pi\n",
    "    from math import pow\n",
    "    return(pi * pow(radius, 2))"
   ]
  },
  {
   "cell_type": "markdown",
   "metadata": {},
   "source": [
    "**2.Write a Python program to check if a number is positive, negative or zero**"
   ]
  },
  {
   "cell_type": "code",
   "execution_count": 2,
   "metadata": {},
   "outputs": [],
   "source": [
    "def check_num(num):\n",
    "    ''' (number) -> bool\n",
    "    \n",
    "    Return True if and only if the number is zero, positive or negative.\n",
    "    >>> check_num(1)\n",
    "    True\n",
    "    >>> check_num(-2)\n",
    "    True\n",
    "    >>> check_num(0)\n",
    "    True\n",
    "    '''\n",
    "    return(num == 0 or number < 0 or num > 0)"
   ]
  },
  {
   "cell_type": "markdown",
   "metadata": {},
   "source": [
    "**3.Write a Python function to check whether a number is completely divisible by another number. Accept two integer values form the user**"
   ]
  },
  {
   "cell_type": "code",
   "execution_count": 3,
   "metadata": {},
   "outputs": [],
   "source": [
    "def is_divisible(num1, num2):\n",
    "    ''' (int, int) -> bool\n",
    "    \n",
    "    Return True if and only if num2 is completiliy divisible by num1.\n",
    "    >>> is_divisible(4, 2)\n",
    "    True\n",
    "    >>> is_divisible(4, 3)\n",
    "    False\n",
    "    >>> is_divisible(2, 4)\n",
    "    False\n",
    "    '''\n",
    "    return(num1 % num2 == 0)"
   ]
  },
  {
   "cell_type": "markdown",
   "metadata": {},
   "source": [
    "**4.Write a Python program that accepts an integer (n) and computes the value of (n + nn + nnn)**"
   ]
  },
  {
   "cell_type": "code",
   "execution_count": 4,
   "metadata": {},
   "outputs": [],
   "source": [
    "def function(number):\n",
    "    ''' (number) -> number + number**2 + number**3\n",
    "    Accepts a number and return number + number**2 + number**3.\n",
    "    >>> function(2)\n",
    "    14.0\n",
    "    >>> function(1)\n",
    "    3.0\n",
    "    '''\n",
    "    from math import pow\n",
    "    return(number + pow(number, 2) + pow(number, 3))"
   ]
  },
  {
   "cell_type": "markdown",
   "metadata": {},
   "source": [
    "**5.Write a Python program to calculate number of days between two dates**"
   ]
  },
  {
   "cell_type": "code",
   "execution_count": 5,
   "metadata": {},
   "outputs": [],
   "source": [
    "def dates_diff(date1, date2):\n",
    "    ''' (str, str) -> int\n",
    "    >>> date_diff(\"1-1-2019\",\"1-2-2019\")\n",
    "    31\n",
    "    '''\n",
    "    from datetime import date\n",
    "    date1 = date1.split('-')\n",
    "    day1 = int(date1[0])\n",
    "    month1 = int(date1[1])\n",
    "    year1 = int(date1[2])\n",
    "    date2 = date2.split('-')\n",
    "    day2 = int(date2[0])\n",
    "    month2 = int(date2[1])\n",
    "    year2 = int(date2[2])\n",
    "    first_date = date(year1, month1, day1)\n",
    "    second_date = date(year2, month2, day2)\n",
    "    diff = second_date - first_date\n",
    "    return(diff.days)"
   ]
  },
  {
   "cell_type": "markdown",
   "metadata": {},
   "source": [
    "**6.Write a Python program to get the volume of a sphere, please take the radius as input from user. V=4 / 3 πr3**"
   ]
  },
  {
   "cell_type": "code",
   "execution_count": 6,
   "metadata": {},
   "outputs": [],
   "source": [
    "def sphere_volume(radius):\n",
    "    ''' (number) -> number\n",
    "    >>> sphere_volume(1)\n",
    "    4.189\n",
    "    '''\n",
    "    from math import pi,pow\n",
    "    return(round( (4/3)* pi * pow(radius, 3), 3))"
   ]
  },
  {
   "cell_type": "markdown",
   "metadata": {},
   "source": [
    "**7.Write a Python program to get the difference between a given number and 17, difference cannot be negative**"
   ]
  },
  {
   "cell_type": "code",
   "execution_count": 7,
   "metadata": {},
   "outputs": [],
   "source": [
    "def diff_17(num):\n",
    "    ''' (num) -> num\n",
    "    >>> diff_17(1)\n",
    "    >>> 16\n",
    "    '''\n",
    "    return(abs(num-17))"
   ]
  },
  {
   "cell_type": "markdown",
   "metadata": {},
   "source": [
    "**8.Write a Python program to get a new string from a given string where \"Is\" has been added to the front. If the given string already begins with \"Is\" then return the string unchanged**"
   ]
  },
  {
   "cell_type": "code",
   "execution_count": 8,
   "metadata": {},
   "outputs": [],
   "source": [
    "def new_string(string):\n",
    "    ''' (str) -> str\n",
    "    >>> new_string(\"A Text\")\n",
    "    >>> Is A Text\n",
    "    >>> new_string(\"Is Animal\")\n",
    "    >>> Is Animal\n",
    "    '''\n",
    "    if \"is\" in string.lower()[0:2]:\n",
    "        return(string)\n",
    "    else:\n",
    "        return(\"Is \" + string)"
   ]
  },
  {
   "cell_type": "markdown",
   "metadata": {},
   "source": [
    "**9.Write a Python program to get a string which is n (non-negative integer) copies of a given string**"
   ]
  },
  {
   "cell_type": "code",
   "execution_count": 1,
   "metadata": {},
   "outputs": [],
   "source": [
    "def get_string_copy(string, n):\n",
    "    ''' (str, int) -> str\n",
    "    >>> get_string_copy(Text, 3)\n",
    "    Text Text Text\n",
    "    '''\n",
    "    return((string + \" \") * abs(n))"
   ]
  },
  {
   "cell_type": "markdown",
   "metadata": {},
   "source": [
    "**10.Write a Python program to find whether a given number (accept from the user) is even or odd, print out an appropriate message to the user.**"
   ]
  },
  {
   "cell_type": "code",
   "execution_count": 2,
   "metadata": {},
   "outputs": [
    {
     "name": "stdout",
     "output_type": "stream",
     "text": [
      "Please enter a number:1\n",
      "The number is odd.!\n"
     ]
    }
   ],
   "source": [
    "def is_even(num):\n",
    "    return(num % 2 == 0)\n",
    "num = int(input(\"Please enter a number:\"))\n",
    "if is_even(num):\n",
    "    print(\"The number is even.!\")\n",
    "else:\n",
    "    print(\"The number is odd.!\")    "
   ]
  },
  {
   "cell_type": "code",
   "execution_count": null,
   "metadata": {},
   "outputs": [],
   "source": []
  }
 ],
 "metadata": {
  "kernelspec": {
   "display_name": "Python 3",
   "language": "python",
   "name": "python3"
  },
  "language_info": {
   "codemirror_mode": {
    "name": "ipython",
    "version": 3
   },
   "file_extension": ".py",
   "mimetype": "text/x-python",
   "name": "python",
   "nbconvert_exporter": "python",
   "pygments_lexer": "ipython3",
   "version": "3.7.3"
  }
 },
 "nbformat": 4,
 "nbformat_minor": 2
}

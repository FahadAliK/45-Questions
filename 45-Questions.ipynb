{
 "cells": [
  {
   "cell_type": "markdown",
   "metadata": {},
   "source": [
    "**1.Write a Python program which accepts the radius of a circle from the user and compute the area.**"
   ]
  },
  {
   "cell_type": "code",
   "execution_count": 1,
   "metadata": {},
   "outputs": [],
   "source": [
    "def get_circle_area(radius):\n",
    "    ''' (number) -> number\n",
    "    \n",
    "    Return area of circle by using radius of that circle.\n",
    "    \n",
    "    >>> get_circle_area(1)\n",
    "    3.141592653589793\n",
    "    >>> get_circle_area(2)\n",
    "    12.566370614359172\n",
    "    >>> get_circle_area(3.2)\n",
    "    32.169908772759484\n",
    "    '''\n",
    "    from math import pi\n",
    "    from math import pow\n",
    "    return(pi * pow(radius, 2))"
   ]
  },
  {
   "cell_type": "markdown",
   "metadata": {},
   "source": [
    "**2.Write a Python program to check if a number is positive, negative or zero**"
   ]
  },
  {
   "cell_type": "code",
   "execution_count": 2,
   "metadata": {},
   "outputs": [],
   "source": [
    "def check_num(num):\n",
    "    ''' (number) -> bool\n",
    "    \n",
    "    Return True if and only if the number is zero, positive or negative.\n",
    "    >>> check_num(1)\n",
    "    True\n",
    "    >>> check_num(-2)\n",
    "    True\n",
    "    >>> check_num(0)\n",
    "    True\n",
    "    '''\n",
    "    return(num == 0 or number < 0 or num > 0)"
   ]
  },
  {
   "cell_type": "code",
   "execution_count": null,
   "metadata": {},
   "outputs": [],
   "source": []
  }
 ],
 "metadata": {
  "kernelspec": {
   "display_name": "Python 3",
   "language": "python",
   "name": "python3"
  },
  "language_info": {
   "codemirror_mode": {
    "name": "ipython",
    "version": 3
   },
   "file_extension": ".py",
   "mimetype": "text/x-python",
   "name": "python",
   "nbconvert_exporter": "python",
   "pygments_lexer": "ipython3",
   "version": "3.7.3"
  }
 },
 "nbformat": 4,
 "nbformat_minor": 2
}
